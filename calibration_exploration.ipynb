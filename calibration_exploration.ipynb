{
 "cells": [
  {
   "cell_type": "code",
   "execution_count": 1,
   "metadata": {},
   "outputs": [],
   "source": [
    "import cv2"
   ]
  },
  {
   "cell_type": "code",
   "execution_count": null,
   "metadata": {},
   "outputs": [],
   "source": []
  },
  {
   "cell_type": "code",
   "execution_count": null,
   "metadata": {},
   "outputs": [],
   "source": []
  },
  {
   "cell_type": "code",
   "execution_count": 2,
   "metadata": {},
   "outputs": [
    {
     "ename": "NameError",
     "evalue": "name 'corners' is not defined",
     "output_type": "error",
     "traceback": [
      "\u001b[0;31m---------------------------------------------------------------------------\u001b[0m",
      "\u001b[0;31mNameError\u001b[0m                                 Traceback (most recent call last)",
      "Cell \u001b[0;32mIn[2], line 1\u001b[0m\n\u001b[0;32m----> 1\u001b[0m corners\u001b[38;5;241m.\u001b[39mshape\n",
      "\u001b[0;31mNameError\u001b[0m: name 'corners' is not defined"
     ]
    }
   ],
   "source": [
    "corners.shape"
   ]
  },
  {
   "cell_type": "code",
   "execution_count": null,
   "metadata": {},
   "outputs": [],
   "source": [
    "import numpy as np\n",
    "import cv2 as cv\n",
    "from matplotlib import pyplot as plt\n",
    " \n",
    "img = cv2.imread('290_230314_205548_1678827423.tiff')[::-1]\n",
    "gray = cv.cvtColor(img,cv.COLOR_BGR2GRAY)\n",
    " \n",
    "corners = cv.goodFeaturesToTrack(\n",
    "    gray,\n",
    "    10000,\n",
    "    0.01,\n",
    "    20,\n",
    ")\n",
    "\n",
    "fig = plt.figure(figsize=(20,20))\n",
    "ax = plt.gca()\n",
    "\n",
    "xs = np.arange(img.shape[1])\n",
    "ys = np.arange(img.shape[0])\n",
    "x_center = np.sum(xs*gray)/np.sum(gray)\n",
    "y_center = np.sum(ys[:,np.newaxis]*gray)/np.sum(gray)\n",
    "\n",
    "ax.imshow(img)\n",
    "ax.scatter(\n",
    "    img.shape[1] / 2,\n",
    "    img.shape[0] / 2,\n",
    "    s=100,\n",
    "    c='b'\n",
    ")\n",
    "ax.scatter(\n",
    "    x_center,\n",
    "    y_center,\n",
    "    s=100,\n",
    "    c='b',\n",
    "    marker='s',\n",
    ")\n",
    "ax.scatter(\n",
    "    corners[:,0,0],\n",
    "    corners[:,0,1],\n",
    "    c='r',\n",
    "    s=20,\n",
    ")\n"
   ]
  },
  {
   "cell_type": "code",
   "execution_count": null,
   "metadata": {},
   "outputs": [],
   "source": []
  },
  {
   "cell_type": "code",
   "execution_count": null,
   "metadata": {},
   "outputs": [],
   "source": []
  }
 ],
 "metadata": {
  "kernelspec": {
   "display_name": "night-horizons",
   "language": "python",
   "name": "python3"
  },
  "language_info": {
   "codemirror_mode": {
    "name": "ipython",
    "version": 3
   },
   "file_extension": ".py",
   "mimetype": "text/x-python",
   "name": "python",
   "nbconvert_exporter": "python",
   "pygments_lexer": "ipython3",
   "version": "3.11.5"
  }
 },
 "nbformat": 4,
 "nbformat_minor": 2
}
